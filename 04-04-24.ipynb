{
 "cells": [
  {
   "cell_type": "code",
   "execution_count": 4,
   "id": "4becf0c5",
   "metadata": {},
   "outputs": [],
   "source": [
    "# How can we create our own data type\n",
    "# We build fraction data type\n",
    "class Fraction:\n",
    "    def __init__(self,n,d):\n",
    "        self.num = n\n",
    "        self.den = d"
   ]
  },
  {
   "cell_type": "code",
   "execution_count": 5,
   "id": "242e2e1f",
   "metadata": {},
   "outputs": [],
   "source": [
    "x = Fraction(4,5)"
   ]
  },
  {
   "cell_type": "code",
   "execution_count": 7,
   "id": "fcfccdac",
   "metadata": {},
   "outputs": [
    {
     "data": {
      "text/plain": [
       "__main__.Fraction"
      ]
     },
     "execution_count": 7,
     "metadata": {},
     "output_type": "execute_result"
    }
   ],
   "source": [
    "type(x)"
   ]
  },
  {
   "cell_type": "code",
   "execution_count": 6,
   "id": "59641f73",
   "metadata": {},
   "outputs": [
    {
     "name": "stdout",
     "output_type": "stream",
     "text": [
      "<__main__.Fraction object at 0x0000020716DE18D0>\n"
     ]
    }
   ],
   "source": [
    "print(x)"
   ]
  },
  {
   "cell_type": "code",
   "execution_count": 10,
   "id": "7165d34c",
   "metadata": {},
   "outputs": [],
   "source": [
    "# Now we can add this with any data type\n",
    "\n",
    "L = [1,2,3,x]"
   ]
  },
  {
   "cell_type": "code",
   "execution_count": 11,
   "id": "c76574a2",
   "metadata": {},
   "outputs": [
    {
     "data": {
      "text/plain": [
       "[1, 2, 3, <__main__.Fraction at 0x16d45b12dd0>]"
      ]
     },
     "execution_count": 11,
     "metadata": {},
     "output_type": "execute_result"
    }
   ],
   "source": [
    "L"
   ]
  },
  {
   "cell_type": "code",
   "execution_count": 7,
   "id": "ce6b3ec8",
   "metadata": {},
   "outputs": [],
   "source": [
    "class Fraction:\n",
    "    def __init__(self,n,d):\n",
    "        self.num= n \n",
    "        self.den = d\n",
    "        \n",
    "    def __str__(self):\n",
    "        return \"hello\""
   ]
  },
  {
   "cell_type": "code",
   "execution_count": 8,
   "id": "f07b6a41",
   "metadata": {},
   "outputs": [],
   "source": [
    "x = Fraction(3,4)"
   ]
  },
  {
   "cell_type": "code",
   "execution_count": 9,
   "id": "b4ef14ad",
   "metadata": {},
   "outputs": [
    {
     "name": "stdout",
     "output_type": "stream",
     "text": [
      "hello\n"
     ]
    }
   ],
   "source": [
    "# when print function execute it find __str__ magic method\n",
    "\n",
    "print(x)"
   ]
  },
  {
   "cell_type": "code",
   "execution_count": 10,
   "id": "80377d6b",
   "metadata": {},
   "outputs": [],
   "source": [
    "y =  Fraction(4,5)"
   ]
  },
  {
   "cell_type": "code",
   "execution_count": 11,
   "id": "21cdaeee",
   "metadata": {},
   "outputs": [
    {
     "name": "stdout",
     "output_type": "stream",
     "text": [
      "hello\n"
     ]
    }
   ],
   "source": [
    "print(y)"
   ]
  },
  {
   "cell_type": "code",
   "execution_count": 12,
   "id": "ce22168a",
   "metadata": {},
   "outputs": [],
   "source": [
    "class Fraction:\n",
    "    def __init__(self,n,d):\n",
    "        self.num = n\n",
    "        self.den = d\n",
    "    def __str__(self):\n",
    "        return \"{}/{}\".format(self.num,self.den)"
   ]
  },
  {
   "cell_type": "code",
   "execution_count": 13,
   "id": "cb92b681",
   "metadata": {},
   "outputs": [],
   "source": [
    "x = Fraction(3,4)"
   ]
  },
  {
   "cell_type": "code",
   "execution_count": 14,
   "id": "931a0db6",
   "metadata": {},
   "outputs": [
    {
     "name": "stdout",
     "output_type": "stream",
     "text": [
      "3/4\n"
     ]
    }
   ],
   "source": [
    "print(x)"
   ]
  },
  {
   "cell_type": "code",
   "execution_count": 15,
   "id": "99c0eeee",
   "metadata": {},
   "outputs": [],
   "source": [
    "y = Fraction(4,5)"
   ]
  },
  {
   "cell_type": "code",
   "execution_count": 16,
   "id": "cc4054ba",
   "metadata": {},
   "outputs": [
    {
     "name": "stdout",
     "output_type": "stream",
     "text": [
      "4/5\n"
     ]
    }
   ],
   "source": [
    "print(y)"
   ]
  },
  {
   "cell_type": "code",
   "execution_count": 17,
   "id": "998badf9",
   "metadata": {},
   "outputs": [
    {
     "data": {
      "text/plain": [
       "__main__.Fraction"
      ]
     },
     "execution_count": 17,
     "metadata": {},
     "output_type": "execute_result"
    }
   ],
   "source": [
    "type(x)"
   ]
  },
  {
   "cell_type": "code",
   "execution_count": 19,
   "id": "65fee90c",
   "metadata": {},
   "outputs": [
    {
     "ename": "TypeError",
     "evalue": "unsupported operand type(s) for +: 'Fraction' and 'Fraction'",
     "output_type": "error",
     "traceback": [
      "\u001b[1;31m---------------------------------------------------------------------------\u001b[0m",
      "\u001b[1;31mTypeError\u001b[0m                                 Traceback (most recent call last)",
      "Cell \u001b[1;32mIn[19], line 1\u001b[0m\n\u001b[1;32m----> 1\u001b[0m \u001b[38;5;28mprint\u001b[39m(x\u001b[38;5;241m+\u001b[39my)\n",
      "\u001b[1;31mTypeError\u001b[0m: unsupported operand type(s) for +: 'Fraction' and 'Fraction'"
     ]
    }
   ],
   "source": [
    "print(x+y)"
   ]
  },
  {
   "cell_type": "code",
   "execution_count": 20,
   "id": "7af7a7bd",
   "metadata": {},
   "outputs": [],
   "source": [
    "# this is not working because \n",
    "# we till now not define how our object is added\n"
   ]
  },
  {
   "cell_type": "code",
   "execution_count": 21,
   "id": "cd893aef",
   "metadata": {},
   "outputs": [],
   "source": [
    "s1 = [1,2,3]\n",
    "s2 = [4,5,6]"
   ]
  },
  {
   "cell_type": "code",
   "execution_count": 22,
   "id": "2159a316",
   "metadata": {},
   "outputs": [
    {
     "data": {
      "text/plain": [
       "[1, 2, 3, 4, 5, 6]"
      ]
     },
     "execution_count": 22,
     "metadata": {},
     "output_type": "execute_result"
    }
   ],
   "source": [
    "s1 + s2"
   ]
  },
  {
   "cell_type": "code",
   "execution_count": 29,
   "id": "f6ddd072",
   "metadata": {},
   "outputs": [],
   "source": [
    "class Fraction:\n",
    "    \n",
    "    def __init__(self,n,d):\n",
    "        self.num = n\n",
    "        self.den = d\n",
    "    def __str__(self):\n",
    "        return \"{}/{}\".format(self.num,self.den)\n",
    "    def __add__(self,other):\n",
    "        temp_num = self.num * other.den + other.num * self.den\n",
    "        temp_den = self.den * other.den\n",
    "        \n",
    "        return \"{}/{}\".format(temp_num,temp_den)"
   ]
  },
  {
   "cell_type": "code",
   "execution_count": 30,
   "id": "c6b5ba2f",
   "metadata": {},
   "outputs": [],
   "source": [
    "x = Fraction(3,4)"
   ]
  },
  {
   "cell_type": "code",
   "execution_count": 31,
   "id": "8ad13e79",
   "metadata": {},
   "outputs": [],
   "source": [
    "y = Fraction(4,5)"
   ]
  },
  {
   "cell_type": "code",
   "execution_count": 32,
   "id": "83101da5",
   "metadata": {},
   "outputs": [
    {
     "name": "stdout",
     "output_type": "stream",
     "text": [
      "31/20\n"
     ]
    }
   ],
   "source": [
    "print(x+y)"
   ]
  },
  {
   "cell_type": "code",
   "execution_count": 33,
   "id": "61bb3fb3",
   "metadata": {},
   "outputs": [
    {
     "ename": "TypeError",
     "evalue": "unsupported operand type(s) for -: 'Fraction' and 'Fraction'",
     "output_type": "error",
     "traceback": [
      "\u001b[1;31m---------------------------------------------------------------------------\u001b[0m",
      "\u001b[1;31mTypeError\u001b[0m                                 Traceback (most recent call last)",
      "Cell \u001b[1;32mIn[33], line 1\u001b[0m\n\u001b[1;32m----> 1\u001b[0m \u001b[38;5;28mprint\u001b[39m(x\u001b[38;5;241m-\u001b[39my)\n",
      "\u001b[1;31mTypeError\u001b[0m: unsupported operand type(s) for -: 'Fraction' and 'Fraction'"
     ]
    }
   ],
   "source": [
    "print(x-y)"
   ]
  },
  {
   "cell_type": "code",
   "execution_count": 42,
   "id": "c29aa1d6",
   "metadata": {},
   "outputs": [],
   "source": [
    "class Fraction :\n",
    "    def __init__(self,n,d):\n",
    "        self.num = n\n",
    "        self.den = d\n",
    "        \n",
    "    def __str__(self):\n",
    "        return \"{}/{}\".format(self.num,self.den)\n",
    "    \n",
    "    def __add__(self,other):\n",
    "        temp_num = self.num * other.den + other.num * self.den\n",
    "        temp_den = self.den * other.den\n",
    "        \n",
    "        return \"{}/{}\".format(temp_num, temp_den)\n",
    "    \n",
    "    def __sub__(self,other):\n",
    "        temp_num = self.num * other.den - other.num * self.den\n",
    "        temp_den = self.den * other.den\n",
    "        \n",
    "    def __mul__(self,other):\n",
    "        temp_num = self.num * other.num\n",
    "        temp_den = self.den * other.den\n",
    "        \n",
    "        return \"{}/{}\".format(temp_num , temp_den)\n",
    "    \n",
    "    def __truediv__(self,other):\n",
    "        temp_num = self.num * other.den\n",
    "        temp_den = self.den * other.num\n",
    "        \n",
    "        return \"{}/{}\".format(temp_num,temp_den)"
   ]
  },
  {
   "cell_type": "code",
   "execution_count": 43,
   "id": "8864faa2",
   "metadata": {},
   "outputs": [],
   "source": [
    "x = Fraction(3,4)\n",
    "y = Fraction(4,5)"
   ]
  },
  {
   "cell_type": "code",
   "execution_count": 44,
   "id": "94cc779b",
   "metadata": {},
   "outputs": [
    {
     "name": "stdout",
     "output_type": "stream",
     "text": [
      "31/20\n"
     ]
    }
   ],
   "source": [
    "print(x+y)"
   ]
  },
  {
   "cell_type": "code",
   "execution_count": 48,
   "id": "14888675",
   "metadata": {},
   "outputs": [
    {
     "name": "stdout",
     "output_type": "stream",
     "text": [
      "None\n"
     ]
    }
   ],
   "source": [
    "print(x-y)"
   ]
  },
  {
   "cell_type": "code",
   "execution_count": 46,
   "id": "4f53ef50",
   "metadata": {},
   "outputs": [
    {
     "name": "stdout",
     "output_type": "stream",
     "text": [
      "12/20\n"
     ]
    }
   ],
   "source": [
    "print(x*y)"
   ]
  },
  {
   "cell_type": "code",
   "execution_count": 47,
   "id": "48a5cb81",
   "metadata": {},
   "outputs": [
    {
     "name": "stdout",
     "output_type": "stream",
     "text": [
      "15/16\n"
     ]
    }
   ],
   "source": [
    "print(x/y)"
   ]
  },
  {
   "cell_type": "code",
   "execution_count": 24,
   "id": "0ba1d8df",
   "metadata": {},
   "outputs": [],
   "source": [
    "# Encopsulation\n",
    "# now we add functionality by creating method for each case \n",
    "\n",
    "\n",
    "class Atm:\n",
    "    \n",
    "    def __init__(self):\n",
    "        \n",
    "        # under constructor which variable we declare that's call \n",
    "        # instance variable bacause for every object this variable \n",
    "        #  are different\n",
    "        \n",
    "        self.pin = ''\n",
    "        self.balance = 0 \n",
    "        \n",
    "        self.menu()\n",
    "        \n",
    "    def menu(self):\n",
    "        \n",
    "        user_input = input(\"\"\" hello, how would you like to proceed ?\n",
    "        1. Enter 1 to creat pin \n",
    "        2. Enter 2 to deposit\n",
    "        3. Enter 3 to withdraw\n",
    "        4. Enter 4 to check balance \n",
    "        5. Enter 5 to exit \n",
    "        \"\"\")\n",
    "        \n",
    "        if user_input == \"1\":\n",
    "            self.create_pin()\n",
    "        elif user_input == \"2\":\n",
    "            self.deposit()\n",
    "        elif user_input == \"3\":\n",
    "            self.withdraw()\n",
    "        elif user_input == \"4\":\n",
    "            self.check_balance()\n",
    "        else :\n",
    "            print(\"bye\")\n",
    "            \n",
    "    def create_pin(self):\n",
    "        self.pin = input(\"Enter your pin :- \")\n",
    "        print(\"pin set successfully\") \n",
    "        \n",
    "        \n",
    "    def deposit(self):\n",
    "        temp = input(\"Enter your pin :-\")\n",
    "        if temp == self.pin :\n",
    "            amount = int(input(\"Enter the amount :-\"))\n",
    "            self.balance = self.balance + amount \n",
    "            print(\"Deposit Successful\")\n",
    "        else:\n",
    "            print(\"invalid pin\")\n",
    "                \n",
    "                \n",
    "    def withdraw(self):\n",
    "        temp = input(\"Enter your pin :- \")\n",
    "        if temp == self.pin:\n",
    "            amount = int(input(\"Enter the amount :- \"))\n",
    "            if amount <= self.balance :\n",
    "                self.balance = self.balance - amount\n",
    "                print(\"withdraw successful\")\n",
    "            else:\n",
    "                print(\"insufficient balance\")\n",
    "        else: \n",
    "            print(\"invalid pin\")\n",
    "            \n",
    "            \n",
    "    def check_balance(self):\n",
    "        temp = input(\"Enter your pin :-\")\n",
    "        if temp == self.pin:\n",
    "            print(self.balance)\n",
    "        else:\n",
    "            print(\"invalid pin\")\n",
    "                        "
   ]
  },
  {
   "cell_type": "code",
   "execution_count": 25,
   "id": "f3a6dcbd",
   "metadata": {},
   "outputs": [
    {
     "name": "stdout",
     "output_type": "stream",
     "text": [
      " hello, how would you like to proceed ?\n",
      "        1. Enter 1 to creat pin \n",
      "        2. Enter 2 to deposit\n",
      "        3. Enter 3 to withdraw\n",
      "        4. Enter 4 to check balance \n",
      "        5. Enter 5 to exit \n",
      "        1\n",
      "Enter your pin :- 7063\n",
      "pin set successfully\n"
     ]
    }
   ],
   "source": [
    "sbi = Atm()"
   ]
  },
  {
   "cell_type": "code",
   "execution_count": 26,
   "id": "ae10c68b",
   "metadata": {},
   "outputs": [
    {
     "data": {
      "text/plain": [
       "0"
      ]
     },
     "execution_count": 26,
     "metadata": {},
     "output_type": "execute_result"
    }
   ],
   "source": [
    "sbi.balance"
   ]
  },
  {
   "cell_type": "code",
   "execution_count": 27,
   "id": "850f74e4",
   "metadata": {},
   "outputs": [],
   "source": [
    "sbi.balance = \"fdf\""
   ]
  },
  {
   "cell_type": "code",
   "execution_count": 28,
   "id": "a5982227",
   "metadata": {},
   "outputs": [
    {
     "name": "stdout",
     "output_type": "stream",
     "text": [
      "Enter your pin :-7063\n",
      "Enter the amount :-5000\n"
     ]
    },
    {
     "ename": "TypeError",
     "evalue": "can only concatenate str (not \"int\") to str",
     "output_type": "error",
     "traceback": [
      "\u001b[1;31m---------------------------------------------------------------------------\u001b[0m",
      "\u001b[1;31mTypeError\u001b[0m                                 Traceback (most recent call last)",
      "Cell \u001b[1;32mIn[28], line 1\u001b[0m\n\u001b[1;32m----> 1\u001b[0m sbi\u001b[38;5;241m.\u001b[39mdeposit()\n",
      "Cell \u001b[1;32mIn[24], line 44\u001b[0m, in \u001b[0;36mAtm.deposit\u001b[1;34m(self)\u001b[0m\n\u001b[0;32m     42\u001b[0m \u001b[38;5;28;01mif\u001b[39;00m temp \u001b[38;5;241m==\u001b[39m \u001b[38;5;28mself\u001b[39m\u001b[38;5;241m.\u001b[39mpin :\n\u001b[0;32m     43\u001b[0m     amount \u001b[38;5;241m=\u001b[39m \u001b[38;5;28mint\u001b[39m(\u001b[38;5;28minput\u001b[39m(\u001b[38;5;124m\"\u001b[39m\u001b[38;5;124mEnter the amount :-\u001b[39m\u001b[38;5;124m\"\u001b[39m))\n\u001b[1;32m---> 44\u001b[0m     \u001b[38;5;28mself\u001b[39m\u001b[38;5;241m.\u001b[39mbalance \u001b[38;5;241m=\u001b[39m \u001b[38;5;28mself\u001b[39m\u001b[38;5;241m.\u001b[39mbalance \u001b[38;5;241m+\u001b[39m amount \n\u001b[0;32m     45\u001b[0m     \u001b[38;5;28mprint\u001b[39m(\u001b[38;5;124m\"\u001b[39m\u001b[38;5;124mDeposit Successful\u001b[39m\u001b[38;5;124m\"\u001b[39m)\n\u001b[0;32m     46\u001b[0m \u001b[38;5;28;01melse\u001b[39;00m:\n",
      "\u001b[1;31mTypeError\u001b[0m: can only concatenate str (not \"int\") to str"
     ]
    }
   ],
   "source": [
    "sbi.deposit()"
   ]
  },
  {
   "cell_type": "code",
   "execution_count": 29,
   "id": "8c8462ff",
   "metadata": {},
   "outputs": [],
   "source": [
    "# now we add functional by creating method for each case \n",
    "\n",
    "\n",
    "class Atm:\n",
    "    \n",
    "    def __init__(self):\n",
    "        \n",
    "        self.pin = ''\n",
    "        self.balance = 0 \n",
    "        \n",
    "        self.menu()\n",
    "        \n",
    "    def menu(self):\n",
    "        \n",
    "        user_input = input(\"\"\" hello, how would you like to proceed ?\n",
    "        1. Enter 1 to creat pin \n",
    "        2. Enter 2 to deposit\n",
    "        3. Enter 3 to withdraw\n",
    "        4. Enter 4 to check balance \n",
    "        5. Enter 5 to exit \n",
    "        \"\"\")\n",
    "        \n",
    "        if user_input == \"1\":\n",
    "            self.create_pin()\n",
    "        elif user_input == \"2\":\n",
    "            self.deposit()\n",
    "        elif user_input == \"3\":\n",
    "            self.withdraw()\n",
    "        elif user_input == \"4\":\n",
    "            self.check_balance()\n",
    "        else :\n",
    "            print(\"bye\")\n",
    "            \n",
    "    def create_pin(self):\n",
    "        self.pin = input(\"Enter your pin :- \")\n",
    "        print(\"pin set successfully\") \n",
    "        \n",
    "        \n",
    "    def deposit(self):\n",
    "        temp = input(\"Enter your pin :-\")\n",
    "        if temp == self.pin :\n",
    "            amount = int(input(\"Enter the amount :-\"))\n",
    "            self.balance = self.balance + amount \n",
    "            print(\"Deposit Successful\")\n",
    "        else:\n",
    "            print(\"invalid pin\")\n",
    "                \n",
    "                \n",
    "    def withdraw(self):\n",
    "        temp = input(\"Enter your pin :- \")\n",
    "        if temp == self.pin:\n",
    "            amount = int(input(\"Enter the amount :- \"))\n",
    "            if amount <= self.balance :\n",
    "                self.balance = self.balance - amount\n",
    "                print(\"withdraw successful\")\n",
    "            else:\n",
    "                print(\"insufficient balance\")\n",
    "        else: \n",
    "            print(\"invalid pin\")\n",
    "            \n",
    "            \n",
    "    def check_balance(self):\n",
    "        temp = input(\"Enter your pin :-\")\n",
    "        if temp == self.pin:\n",
    "            print(self.balance)\n",
    "        else:\n",
    "            print(\"invalid pin\")\n",
    "    def check_balance(self):\n",
    "        temp = input(\"Enter your pin\")\n",
    "        if temp == self.pin:\n",
    "            print(self.balance)\n",
    "        else :\n",
    "            print(\"invalid pin\")"
   ]
  },
  {
   "cell_type": "code",
   "execution_count": 30,
   "id": "763c66ab",
   "metadata": {},
   "outputs": [
    {
     "name": "stdout",
     "output_type": "stream",
     "text": [
      " hello, how would you like to proceed ?\n",
      "        1. Enter 1 to creat pin \n",
      "        2. Enter 2 to deposit\n",
      "        3. Enter 3 to withdraw\n",
      "        4. Enter 4 to check balance \n",
      "        5. Enter 5 to exit \n",
      "        1\n",
      "Enter your pin :- 7063\n",
      "pin set successfully\n"
     ]
    }
   ],
   "source": [
    "sbi = Atm()"
   ]
  },
  {
   "cell_type": "code",
   "execution_count": 36,
   "id": "e3a85dee",
   "metadata": {},
   "outputs": [],
   "source": [
    "# now we  add functional by creating method for each case \n",
    "\n",
    "class Atm:\n",
    "    \n",
    "    def __init__(self):\n",
    "        \n",
    "        self.pin = ''\n",
    "        self.__balance = 0 \n",
    "        \n",
    "        self.menu()\n",
    "        \n",
    "    def menu(self):\n",
    "        \n",
    "        user_input = input(\"\"\" \n",
    "        hello, how would you like to proceed ?\n",
    "        1. Enter 1 to creat pin \n",
    "        2. Enter 2 to deposit\n",
    "        3. Enter 3 to withdraw\n",
    "        4. Enter 4 to check balance \n",
    "        5. Enter 5 to exit \n",
    "        \"\"\")\n",
    "        \n",
    "        if user_input == \"1\":\n",
    "            self.create_pin()\n",
    "        elif user_input == \"2\":\n",
    "            self.deposit()\n",
    "        elif user_input == \"3\":\n",
    "            self.withdraw()\n",
    "        elif user_input == \"4\":\n",
    "            self.check__balance()\n",
    "        else :\n",
    "            print(\"bye\")\n",
    "            \n",
    "    def create_pin(self):\n",
    "        self.pin = input(\"Enter your pin :- \")\n",
    "        print(\"pin set successfully\") \n",
    "        \n",
    "        \n",
    "    def deposit(self):\n",
    "        temp = input(\"Enter your pin :-\")\n",
    "        if temp == self.pin :\n",
    "            amount = int(input(\"Enter the amount :-\"))\n",
    "            self.__balance = self.__balance + amount \n",
    "            print(\"Deposit Successful\")\n",
    "        else:\n",
    "            print(\"invalid pin\")\n",
    "                \n",
    "                \n",
    "    def withdraw(self):\n",
    "        temp = input(\"Enter your pin :- \")\n",
    "        if temp == self.pin:\n",
    "            amount = int(input(\"Enter the amount :- \"))\n",
    "            if amount <= self.__balance :\n",
    "                self.__balance = self.__balance - amount\n",
    "                print(\"withdraw successful\")\n",
    "            else:\n",
    "                print(\"insufficient balance\")\n",
    "        else: \n",
    "            print(\"invalid pin\")\n",
    "            \n",
    "            \n",
    "    def check_balance(self):\n",
    "        temp = input(\"Enter your pin :-\")\n",
    "        if temp == self.pin:\n",
    "            print(self.__balance)\n",
    "        else:\n",
    "            print(\"invalid pin\")"
   ]
  },
  {
   "cell_type": "code",
   "execution_count": 37,
   "id": "d99729fe",
   "metadata": {},
   "outputs": [
    {
     "name": "stdout",
     "output_type": "stream",
     "text": [
      " \n",
      "        hello, how would you like to proceed ?\n",
      "        1. Enter 1 to creat pin \n",
      "        2. Enter 2 to deposit\n",
      "        3. Enter 3 to withdraw\n",
      "        4. Enter 4 to check balance \n",
      "        5. Enter 5 to exit \n",
      "        1\n",
      "Enter your pin :- 7063\n",
      "pin set successfully\n"
     ]
    }
   ],
   "source": [
    "sbi = Atm()"
   ]
  },
  {
   "cell_type": "code",
   "execution_count": 38,
   "id": "428d5bc0",
   "metadata": {},
   "outputs": [],
   "source": [
    "# by this under Atm class again a new variable created by this name \n",
    "\n",
    "sbi.balance = \"fgfg\""
   ]
  },
  {
   "cell_type": "code",
   "execution_count": 39,
   "id": "e6d4622c",
   "metadata": {},
   "outputs": [
    {
     "name": "stdout",
     "output_type": "stream",
     "text": [
      "Enter your pin :-7063\n",
      "Enter the amount :-5000\n",
      "Deposit Successful\n"
     ]
    }
   ],
   "source": [
    "sbi.deposit()"
   ]
  },
  {
   "cell_type": "code",
   "execution_count": 40,
   "id": "fe5118f3",
   "metadata": {},
   "outputs": [
    {
     "name": "stdout",
     "output_type": "stream",
     "text": [
      "Enter your pin :-7063\n",
      "5000\n"
     ]
    }
   ],
   "source": [
    "sbi.check_balance()"
   ]
  },
  {
   "cell_type": "code",
   "execution_count": 41,
   "id": "44ae2ff4",
   "metadata": {},
   "outputs": [],
   "source": [
    "# when we change variable to __pin then python interpreter \n",
    "# nmake the variable name _Atm_pin\n",
    "\n",
    "sbi_Atm__balance =\"wgwg\""
   ]
  },
  {
   "cell_type": "code",
   "execution_count": 42,
   "id": "54ba212e",
   "metadata": {},
   "outputs": [
    {
     "name": "stdout",
     "output_type": "stream",
     "text": [
      "Enter your pin :-7063\n",
      "Enter the amount :-5000\n",
      "Deposit Successful\n"
     ]
    }
   ],
   "source": [
    "sbi.deposit()"
   ]
  },
  {
   "cell_type": "code",
   "execution_count": 43,
   "id": "6789abf7",
   "metadata": {},
   "outputs": [],
   "source": [
    "# Nothing in python is truly private \n",
    "# now we add functionality by creating method for each case \n",
    "\n",
    "class Atm:\n",
    "    \n",
    "    def __init__(self):\n",
    "        \n",
    "        self.__pin = ''\n",
    "        self.__balance = 0 \n",
    "        \n",
    "        self.__menu()\n",
    "        \n",
    "        \n",
    "    def __menu(self):\n",
    "        \n",
    "        user_input = input(\"\"\" \n",
    "        hello, how would you like to proceed ?\n",
    "        1. Enter 1 to creat pin \n",
    "        2. Enter 2 to deposit\n",
    "        3. Enter 3 to withdraw\n",
    "        4. Enter 4 to check balance \n",
    "        5. Enter 5 to exit \n",
    "        \"\"\")\n",
    "        \n",
    "        if user_input == \"1\":\n",
    "            self.create_pin()\n",
    "        elif user_input == \"2\":\n",
    "            self.deposit()\n",
    "        elif user_input == \"3\":\n",
    "            self.withdraw()\n",
    "        elif user_input == \"4\":\n",
    "            self.check__balance()\n",
    "        else :\n",
    "            print(\"bye\")\n",
    "            \n",
    "    def create_pin(self):\n",
    "        self.pin = input(\"Enter your pin :- \")\n",
    "        print(\"pin set successfully\") \n",
    "        \n",
    "        \n",
    "    def deposit(self):\n",
    "        temp = input(\"Enter your pin :-\")\n",
    "        if temp == self.pin :\n",
    "            amount = int(input(\"Enter the amount :-\"))\n",
    "            self.__balance = self.__balance + amount \n",
    "            print(\"Deposit Successful\")\n",
    "        else:\n",
    "            print(\"invalid pin\")\n",
    "                \n",
    "                \n",
    "    def withdraw(self):\n",
    "        temp = input(\"Enter your pin :- \")\n",
    "        if temp == self.pin:\n",
    "            amount = int(input(\"Enter the amount :- \"))\n",
    "            if amount <= self.__balance :\n",
    "                self.__balance = self.__balance - amount\n",
    "                print(\"withdraw successful\")\n",
    "            else:\n",
    "                print(\"insufficient balance\")\n",
    "        else: \n",
    "            print(\"invalid pin\")\n",
    "            \n",
    "            \n",
    "    def check_balance(self):\n",
    "        temp = input(\"Enter your pin :-\")\n",
    "        if temp == self.pin:\n",
    "            print(self.__balance)\n",
    "        else:\n",
    "            print(\"invalid pin\")\n",
    "\n"
   ]
  },
  {
   "cell_type": "code",
   "execution_count": 44,
   "id": "8c5a6ba5",
   "metadata": {},
   "outputs": [
    {
     "name": "stdout",
     "output_type": "stream",
     "text": [
      " \n",
      "        hello, how would you like to proceed ?\n",
      "        1. Enter 1 to creat pin \n",
      "        2. Enter 2 to deposit\n",
      "        3. Enter 3 to withdraw\n",
      "        4. Enter 4 to check balance \n",
      "        5. Enter 5 to exit \n",
      "        1\n",
      "Enter your pin :- 123\n",
      "pin set successfully\n"
     ]
    }
   ],
   "source": [
    "sbi =Atm()"
   ]
  },
  {
   "cell_type": "code",
   "execution_count": 45,
   "id": "3c776237",
   "metadata": {},
   "outputs": [],
   "source": [
    "# pass by reference \n",
    "class customer:\n",
    "    \n",
    "    def __init__(self,name):\n",
    "        self.name = name"
   ]
  },
  {
   "cell_type": "code",
   "execution_count": 46,
   "id": "85252598",
   "metadata": {},
   "outputs": [],
   "source": [
    "cust = customer(\"Anu\")"
   ]
  },
  {
   "cell_type": "code",
   "execution_count": 47,
   "id": "a09973bb",
   "metadata": {},
   "outputs": [
    {
     "name": "stdout",
     "output_type": "stream",
     "text": [
      "Anu\n"
     ]
    }
   ],
   "source": [
    "print(cust.name)"
   ]
  },
  {
   "cell_type": "code",
   "execution_count": 50,
   "id": "92773a02",
   "metadata": {},
   "outputs": [],
   "source": [
    "class customer:\n",
    "    def __init__(self,name,gender):\n",
    "        \n",
    "        self.name = name\n",
    "        self.gender = gender"
   ]
  },
  {
   "cell_type": "code",
   "execution_count": 51,
   "id": "913465ee",
   "metadata": {},
   "outputs": [],
   "source": [
    "def greet(xyz):\n",
    "    if xyz.gender ==\"Male\":\n",
    "        print(\"Hello\",xyz.name,\"Sir\")\n",
    "    else:\n",
    "        print(\"Hello\",xyz.name,\"ma'am\")"
   ]
  },
  {
   "cell_type": "code",
   "execution_count": 52,
   "id": "d006dc80",
   "metadata": {},
   "outputs": [],
   "source": [
    "cust = customer(\"anu\",\"Male\")"
   ]
  },
  {
   "cell_type": "code",
   "execution_count": 55,
   "id": "76e12827",
   "metadata": {},
   "outputs": [
    {
     "name": "stdout",
     "output_type": "stream",
     "text": [
      "Hello anu Sir\n"
     ]
    }
   ],
   "source": [
    "greet(cust)"
   ]
  },
  {
   "cell_type": "code",
   "execution_count": 56,
   "id": "1401b43d",
   "metadata": {},
   "outputs": [],
   "source": [
    "cust2 = customer(\"anamika\",\"Female\")"
   ]
  },
  {
   "cell_type": "code",
   "execution_count": 57,
   "id": "d41f6c34",
   "metadata": {},
   "outputs": [
    {
     "name": "stdout",
     "output_type": "stream",
     "text": [
      "Hello anamika ma'am\n"
     ]
    }
   ],
   "source": [
    "greet(cust2)"
   ]
  },
  {
   "cell_type": "code",
   "execution_count": 58,
   "id": "5d01d6a8",
   "metadata": {},
   "outputs": [],
   "source": [
    "def greet(xyz):\n",
    "    \n",
    "    if xyz.gender == \"Male\":\n",
    "        print(\"hello\",xyz.name,\"sir\")\n",
    "    else :\n",
    "        print(\"hello\",xyz.name,\"ma'am\")\n",
    "        \n",
    "    cust3 = customer(\"anu\",\"Male\")\n",
    "    \n",
    "    \n",
    "    return cust3"
   ]
  },
  {
   "cell_type": "code",
   "execution_count": 60,
   "id": "ee27de4e",
   "metadata": {},
   "outputs": [
    {
     "name": "stdout",
     "output_type": "stream",
     "text": [
      "hello anu sir\n"
     ]
    }
   ],
   "source": [
    "new_cust = greet(cust)"
   ]
  },
  {
   "cell_type": "code",
   "execution_count": 61,
   "id": "0f665c81",
   "metadata": {},
   "outputs": [
    {
     "name": "stdout",
     "output_type": "stream",
     "text": [
      "anu\n"
     ]
    }
   ],
   "source": [
    "print(new_cust.name)"
   ]
  },
  {
   "cell_type": "code",
   "execution_count": 62,
   "id": "4c19218f",
   "metadata": {},
   "outputs": [],
   "source": [
    "class customer :\n",
    "    def __init__(self,name):\n",
    "        self.name = name\n",
    "        \n",
    "def greet(xyz):\n",
    "    print(id(xyz))"
   ]
  },
  {
   "cell_type": "code",
   "execution_count": 63,
   "id": "c67c78f7",
   "metadata": {},
   "outputs": [],
   "source": [
    "cust = customer(\"nihan\")\n"
   ]
  },
  {
   "cell_type": "code",
   "execution_count": 64,
   "id": "3a1f9a8c",
   "metadata": {},
   "outputs": [
    {
     "name": "stdout",
     "output_type": "stream",
     "text": [
      "2130559285456\n"
     ]
    }
   ],
   "source": [
    "print(id(cust))"
   ]
  },
  {
   "cell_type": "code",
   "execution_count": 65,
   "id": "2231225a",
   "metadata": {},
   "outputs": [
    {
     "name": "stdout",
     "output_type": "stream",
     "text": [
      "2130562185808\n"
     ]
    }
   ],
   "source": [
    "greet(id(cust))"
   ]
  },
  {
   "cell_type": "code",
   "execution_count": 66,
   "id": "f9b8dcba",
   "metadata": {},
   "outputs": [
    {
     "name": "stdout",
     "output_type": "stream",
     "text": [
      "2130559285456\n"
     ]
    }
   ],
   "source": [
    "greet(cust)"
   ]
  },
  {
   "cell_type": "code",
   "execution_count": 67,
   "id": "5833c0df",
   "metadata": {},
   "outputs": [],
   "source": [
    "# it's act like alising \n",
    "a = 3 \n",
    "b = a"
   ]
  },
  {
   "cell_type": "code",
   "execution_count": 68,
   "id": "197b216c",
   "metadata": {},
   "outputs": [
    {
     "data": {
      "text/plain": [
       "140725907133288"
      ]
     },
     "execution_count": 68,
     "metadata": {},
     "output_type": "execute_result"
    }
   ],
   "source": [
    "id(a)"
   ]
  },
  {
   "cell_type": "code",
   "execution_count": 69,
   "id": "25532143",
   "metadata": {},
   "outputs": [
    {
     "data": {
      "text/plain": [
       "140725907133288"
      ]
     },
     "execution_count": 69,
     "metadata": {},
     "output_type": "execute_result"
    }
   ],
   "source": [
    "id(b)"
   ]
  },
  {
   "cell_type": "code",
   "execution_count": 70,
   "id": "b1dbc648",
   "metadata": {},
   "outputs": [],
   "source": [
    "class customer:\n",
    "    def __init__(self,name):\n",
    "        self.name = name"
   ]
  },
  {
   "cell_type": "code",
   "execution_count": 71,
   "id": "c57748cb",
   "metadata": {},
   "outputs": [],
   "source": [
    "def greet(xyz):\n",
    "    print(id(xyz8))\n",
    "    print(xyz.name)"
   ]
  },
  {
   "cell_type": "code",
   "execution_count": 72,
   "id": "de10b9ac",
   "metadata": {},
   "outputs": [],
   "source": [
    "cust = customer(\"Anu\")"
   ]
  },
  {
   "cell_type": "code",
   "execution_count": 73,
   "id": "73ef4243",
   "metadata": {},
   "outputs": [
    {
     "data": {
      "text/plain": [
       "2130559724944"
      ]
     },
     "execution_count": 73,
     "metadata": {},
     "output_type": "execute_result"
    }
   ],
   "source": [
    "id(cust)"
   ]
  },
  {
   "cell_type": "code",
   "execution_count": 75,
   "id": "ce4959ce",
   "metadata": {},
   "outputs": [
    {
     "ename": "NameError",
     "evalue": "name 'xyz8' is not defined",
     "output_type": "error",
     "traceback": [
      "\u001b[1;31m---------------------------------------------------------------------------\u001b[0m",
      "\u001b[1;31mNameError\u001b[0m                                 Traceback (most recent call last)",
      "Cell \u001b[1;32mIn[75], line 1\u001b[0m\n\u001b[1;32m----> 1\u001b[0m greet(cust)\n",
      "Cell \u001b[1;32mIn[71], line 2\u001b[0m, in \u001b[0;36mgreet\u001b[1;34m(xyz)\u001b[0m\n\u001b[0;32m      1\u001b[0m \u001b[38;5;28;01mdef\u001b[39;00m \u001b[38;5;21mgreet\u001b[39m(xyz):\n\u001b[1;32m----> 2\u001b[0m     \u001b[38;5;28mprint\u001b[39m(\u001b[38;5;28mid\u001b[39m(xyz8))\n\u001b[0;32m      3\u001b[0m     \u001b[38;5;28mprint\u001b[39m(xyz\u001b[38;5;241m.\u001b[39mname)\n",
      "\u001b[1;31mNameError\u001b[0m: name 'xyz8' is not defined"
     ]
    }
   ],
   "source": [
    "greet(cust)"
   ]
  },
  {
   "cell_type": "code",
   "execution_count": 76,
   "id": "2eb2424b",
   "metadata": {},
   "outputs": [],
   "source": [
    "cust = customer(\"rehan\")"
   ]
  },
  {
   "cell_type": "code",
   "execution_count": 77,
   "id": "45782230",
   "metadata": {},
   "outputs": [
    {
     "data": {
      "text/plain": [
       "2130573624144"
      ]
     },
     "execution_count": 77,
     "metadata": {},
     "output_type": "execute_result"
    }
   ],
   "source": [
    "id(cust)"
   ]
  },
  {
   "cell_type": "code",
   "execution_count": 78,
   "id": "5a61ba2d",
   "metadata": {},
   "outputs": [],
   "source": [
    "# collection of object \n",
    "\n",
    "class customer :\n",
    "    def __init__(self,name,age):\n",
    "        self.name = name\n",
    "        self.age = age "
   ]
  },
  {
   "cell_type": "code",
   "execution_count": 79,
   "id": "35b5fd5b",
   "metadata": {},
   "outputs": [],
   "source": [
    "c1 = customer(\"neha\",48)\n",
    "c2 = customer(\"nabin\",32)\n",
    "c3 = customer(\"sudha\",25)"
   ]
  },
  {
   "cell_type": "code",
   "execution_count": 80,
   "id": "a5d71143",
   "metadata": {},
   "outputs": [],
   "source": [
    "L = [c1,c2,c3]"
   ]
  },
  {
   "cell_type": "code",
   "execution_count": 81,
   "id": "e48500cf",
   "metadata": {},
   "outputs": [
    {
     "name": "stdout",
     "output_type": "stream",
     "text": [
      "<__main__.customer object at 0x000001F010064AD0>\n",
      "<__main__.customer object at 0x000001F010064910>\n",
      "<__main__.customer object at 0x000001F010064810>\n"
     ]
    }
   ],
   "source": [
    "for i in L :\n",
    "    print(i)"
   ]
  },
  {
   "cell_type": "code",
   "execution_count": 82,
   "id": "f467e3f1",
   "metadata": {},
   "outputs": [
    {
     "name": "stdout",
     "output_type": "stream",
     "text": [
      "neha 48\n",
      "nabin 32\n",
      "sudha 25\n"
     ]
    }
   ],
   "source": [
    "for i in L:\n",
    "    print(i.name,i.age)"
   ]
  },
  {
   "cell_type": "code",
   "execution_count": 83,
   "id": "38c9e093",
   "metadata": {},
   "outputs": [],
   "source": [
    "L "
   ]
  },
  {
   "cell_type": "code",
   "execution_count": 84,
   "id": "3c633307",
   "metadata": {},
   "outputs": [
    {
     "ename": "AttributeError",
     "evalue": "'customer' object has no attribute 'intro'",
     "output_type": "error",
     "traceback": [
      "\u001b[1;31m---------------------------------------------------------------------------\u001b[0m",
      "\u001b[1;31mAttributeError\u001b[0m                            Traceback (most recent call last)",
      "Cell \u001b[1;32mIn[84], line 2\u001b[0m\n\u001b[0;32m      1\u001b[0m \u001b[38;5;28;01mfor\u001b[39;00m i \u001b[38;5;129;01min\u001b[39;00m L:\n\u001b[1;32m----> 2\u001b[0m     i\u001b[38;5;241m.\u001b[39mintro()\n",
      "\u001b[1;31mAttributeError\u001b[0m: 'customer' object has no attribute 'intro'"
     ]
    }
   ],
   "source": [
    "for i in L:\n",
    "    i.intro()"
   ]
  },
  {
   "cell_type": "code",
   "execution_count": 85,
   "id": "030a7b46",
   "metadata": {},
   "outputs": [],
   "source": [
    "class customer:\n",
    "    def __init__(self,name,age):\n",
    "        self.name = name\n",
    "        self.age = age\n",
    "    def intro(self):\n",
    "        print(\"I am \", self.name,\"and I am \",self.age )"
   ]
  },
  {
   "cell_type": "code",
   "execution_count": 86,
   "id": "f4d8bad7",
   "metadata": {},
   "outputs": [],
   "source": [
    "c1 = customer(\"neha\",48)\n",
    "c2 = customer(\"nabin\",32)\n",
    "c3 =  customer(\"sudha\",26)"
   ]
  },
  {
   "cell_type": "code",
   "execution_count": 87,
   "id": "d1e6cbea",
   "metadata": {},
   "outputs": [],
   "source": [
    "L = [c1,c2,c3]"
   ]
  },
  {
   "cell_type": "code",
   "execution_count": 88,
   "id": "e77624df",
   "metadata": {},
   "outputs": [
    {
     "name": "stdout",
     "output_type": "stream",
     "text": [
      "I am  neha and I am  48\n",
      "I am  nabin and I am  32\n",
      "I am  sudha and I am  26\n"
     ]
    }
   ],
   "source": [
    "for i in L:\n",
    "    i.intro()"
   ]
  },
  {
   "cell_type": "code",
   "execution_count": 89,
   "id": "7a7b67ac",
   "metadata": {},
   "outputs": [],
   "source": [
    "# static"
   ]
  },
  {
   "cell_type": "code",
   "execution_count": null,
   "id": "42fe2c73",
   "metadata": {},
   "outputs": [],
   "source": []
  }
 ],
 "metadata": {
  "kernelspec": {
   "display_name": "Python 3 (ipykernel)",
   "language": "python",
   "name": "python3"
  },
  "language_info": {
   "codemirror_mode": {
    "name": "ipython",
    "version": 3
   },
   "file_extension": ".py",
   "mimetype": "text/x-python",
   "name": "python",
   "nbconvert_exporter": "python",
   "pygments_lexer": "ipython3",
   "version": "3.11.5"
  }
 },
 "nbformat": 4,
 "nbformat_minor": 5
}
